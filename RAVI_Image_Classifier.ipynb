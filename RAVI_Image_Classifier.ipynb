{
  "nbformat": 4,
  "nbformat_minor": 0,
  "metadata": {
    "colab": {
      "name": "RAVI_Image_Classifier.ipynb",
      "provenance": [],
      "collapsed_sections": [],
      "toc_visible": true,
      "include_colab_link": true
    },
    "kernelspec": {
      "name": "python3",
      "display_name": "Python 3"
    },
    "accelerator": "GPU"
  },
  "cells": [
    {
      "cell_type": "markdown",
      "metadata": {
        "id": "view-in-github",
        "colab_type": "text"
      },
      "source": [
        "<a href=\"https://colab.research.google.com/github/Shresth-Mehta/Image-Classifier/blob/master/RAVI_Image_Classifier.ipynb\" target=\"_parent\"><img src=\"https://colab.research.google.com/assets/colab-badge.svg\" alt=\"Open In Colab\"/></a>"
      ]
    },
    {
      "cell_type": "markdown",
      "metadata": {
        "id": "2v88IkWTI0WH",
        "colab_type": "text"
      },
      "source": [
        "# Setting up the imports"
      ]
    },
    {
      "cell_type": "code",
      "metadata": {
        "id": "l1r_5eeDnxop",
        "colab_type": "code",
        "outputId": "a9e14173-cdd6-4d68-d417-d911e9549b7d",
        "colab": {
          "base_uri": "https://localhost:8080/",
          "height": 124
        }
      },
      "source": [
        "from google.colab import drive\n",
        "drive.mount('/content/drive')"
      ],
      "execution_count": 0,
      "outputs": [
        {
          "output_type": "stream",
          "text": [
            "Go to this URL in a browser: https://accounts.google.com/o/oauth2/auth?client_id=947318989803-6bn6qk8qdgf4n4g3pfee6491hc0brc4i.apps.googleusercontent.com&redirect_uri=urn%3Aietf%3Awg%3Aoauth%3A2.0%3Aoob&scope=email%20https%3A%2F%2Fwww.googleapis.com%2Fauth%2Fdocs.test%20https%3A%2F%2Fwww.googleapis.com%2Fauth%2Fdrive%20https%3A%2F%2Fwww.googleapis.com%2Fauth%2Fdrive.photos.readonly%20https%3A%2F%2Fwww.googleapis.com%2Fauth%2Fpeopleapi.readonly&response_type=code\n",
            "\n",
            "Enter your authorization code:\n",
            "··········\n",
            "Mounted at /content/drive\n"
          ],
          "name": "stdout"
        }
      ]
    },
    {
      "cell_type": "code",
      "metadata": {
        "id": "jyW4PKdgzZ37",
        "colab_type": "code",
        "outputId": "c0767d67-cfcd-466f-d8db-b1fdacf42d5a",
        "colab": {
          "base_uri": "https://localhost:8080/",
          "height": 34
        }
      },
      "source": [
        "import numpy as np\n",
        "import tensorflow as tf\n",
        "from keras.models import load_model\n",
        "from keras.preprocessing import image\n",
        "from sklearn.metrics import classification_report, confusion_matrix\n",
        "from keras import applications\n",
        "from keras.optimizers import Adam\n",
        "from keras.models import Model\n",
        "from keras.layers import Dense, GlobalAveragePooling2D\n",
        "from keras import backend as K\n",
        "from keras.models import Sequential\n",
        "from keras.layers import BatchNormalization, Convolution2D, MaxPooling2D\n",
        "from keras.layers.core import Lambda, Dense, Flatten, Dropout\n",
        "from keras import regularizers \n",
        "import keras.utils\n",
        "import matplotlib.pyplot as plt"
      ],
      "execution_count": 0,
      "outputs": [
        {
          "output_type": "stream",
          "text": [
            "Using TensorFlow backend.\n"
          ],
          "name": "stderr"
        }
      ]
    },
    {
      "cell_type": "code",
      "metadata": {
        "id": "-qN-uJ9ozg9-",
        "colab_type": "code",
        "colab": {}
      },
      "source": [
        "import os\n",
        "#from pydrive.auth import GoogleAuth\n",
        "#from pydrive.drive import GoogleDrive\n",
        "#from google.colab import auth\n",
        "#from oauth2client.client import GoogleCredentials\n",
        "import tarfile\n",
        "import numpy as np\n",
        "import PIL\n",
        "from PIL import Image \n",
        "import random\n",
        "from sklearn.model_selection import train_test_split"
      ],
      "execution_count": 0,
      "outputs": []
    },
    {
      "cell_type": "markdown",
      "metadata": {
        "id": "5jU5DAsnI7OZ",
        "colab_type": "text"
      },
      "source": [
        "# Getting the file from mounted drive"
      ]
    },
    {
      "cell_type": "code",
      "metadata": {
        "id": "lmb7sCa5zmkj",
        "colab_type": "code",
        "colab": {}
      },
      "source": [
        "tf = tarfile.open('drive/My Drive/data_set_2.tar')\n",
        "tf.extractall()\n",
        "tf.close()"
      ],
      "execution_count": 0,
      "outputs": []
    },
    {
      "cell_type": "code",
      "metadata": {
        "id": "YbnIb6vIzoOf",
        "colab_type": "code",
        "outputId": "e449252d-0bb8-4274-8162-b1b88539e9e2",
        "colab": {
          "base_uri": "https://localhost:8080/",
          "height": 34
        }
      },
      "source": [
        "len(os.listdir('data_set_2'))"
      ],
      "execution_count": 0,
      "outputs": [
        {
          "output_type": "execute_result",
          "data": {
            "text/plain": [
              "15"
            ]
          },
          "metadata": {
            "tags": []
          },
          "execution_count": 5
        }
      ]
    },
    {
      "cell_type": "markdown",
      "metadata": {
        "id": "CnGT1zftIYzI",
        "colab_type": "text"
      },
      "source": [
        "# Preparing the Data Pipeline "
      ]
    },
    {
      "cell_type": "code",
      "metadata": {
        "id": "yuRvfnpCzqAT",
        "colab_type": "code",
        "colab": {}
      },
      "source": [
        "img_size = 128"
      ],
      "execution_count": 0,
      "outputs": []
    },
    {
      "cell_type": "code",
      "metadata": {
        "id": "17saxe-Zzrx3",
        "colab_type": "code",
        "outputId": "855c1773-262f-40ee-ee87-83ea168912f3",
        "colab": {
          "base_uri": "https://localhost:8080/",
          "height": 54
        }
      },
      "source": [
        "print(os.listdir(\"data_set_2\"))"
      ],
      "execution_count": 0,
      "outputs": [
        {
          "output_type": "stream",
          "text": [
            "['flow charts', 'chemistry lab equipment', 'maps', 'structural formulae', 'physics free body diagrams', 'line ray diagrams', 'diagrams in biology', 'geomtery', 'statistics', 'fields', 'cartoon in comics', 'circuit diagram', 'Tabular data', 'complex graphs', 'venn diagrams']\n"
          ],
          "name": "stdout"
        }
      ]
    },
    {
      "cell_type": "code",
      "metadata": {
        "id": "IokBQoz6ztQy",
        "colab_type": "code",
        "outputId": "f6d2d06a-19d8-4570-c157-6352a23899ba",
        "colab": {
          "base_uri": "https://localhost:8080/",
          "height": 400
        }
      },
      "source": [
        "classes = {}\n",
        "#x_data = np.zeros([img_size,img_size,3], dtype=np.uint8)\n",
        "#y_data = np.zeros()\n",
        "x_data = []\n",
        "y_data = []\n",
        "\n",
        "for i, file in enumerate(os.listdir('data_set_2')):\n",
        "  count = 0\n",
        "  file_path = os.path.join('data_set_2', file)\n",
        "  classes[i] = file \n",
        "  for j,img in enumerate(os.listdir(file_path)):\n",
        "    img_path = os.path.join(file_path, img)\n",
        "    try:\n",
        "    \n",
        "      img = Image.open(img_path).convert('RGB')\n",
        "      img = img.resize((img_size, img_size), PIL.Image.ANTIALIAS)\n",
        "      x_data.append(np.array(img))\n",
        "      y_data.append(i)\n",
        "      count += 1\n",
        "    except:\n",
        "      print(img_path)\n",
        "      os.remove(img_path)\n",
        "     \n",
        "  print (classes[i], count)"
      ],
      "execution_count": 0,
      "outputs": [
        {
          "output_type": "stream",
          "text": [
            "/usr/local/lib/python3.6/dist-packages/PIL/Image.py:914: UserWarning: Palette images with Transparency   expressed in bytes should be converted to RGBA images\n",
            "  'to RGBA images')\n"
          ],
          "name": "stderr"
        },
        {
          "output_type": "stream",
          "text": [
            "flow charts 751\n",
            "data_set_2/chemistry lab equipment/1126176.png\n",
            "chemistry lab equipment 557\n"
          ],
          "name": "stdout"
        },
        {
          "output_type": "stream",
          "text": [
            "/usr/local/lib/python3.6/dist-packages/PIL/Image.py:2496: DecompressionBombWarning: Image size (102817600 pixels) exceeds limit of 89478485 pixels, could be decompression bomb DOS attack.\n",
            "  DecompressionBombWarning)\n"
          ],
          "name": "stderr"
        },
        {
          "output_type": "stream",
          "text": [
            "maps 779\n",
            "structural formulae 603\n",
            "physics free body diagrams 592\n",
            "line ray diagrams 534\n",
            "data_set_2/diagrams in biology/adipose-connective-tissue-biology-pinterest-inside-adipose-connective-tissue-labeled-diagram-600x480.gif\n",
            "diagrams in biology 590\n",
            "geomtery 549\n",
            "statistics 654\n",
            "fields 637\n",
            "cartoon in comics 686\n",
            "circuit diagram 603\n",
            "Tabular data 568\n",
            "complex graphs 648\n",
            "venn diagrams 628\n"
          ],
          "name": "stdout"
        }
      ]
    },
    {
      "cell_type": "code",
      "metadata": {
        "id": "rMPaLk4ozv14",
        "colab_type": "code",
        "outputId": "554de292-49c3-490f-b01b-c37ddf564d8f",
        "colab": {
          "base_uri": "https://localhost:8080/",
          "height": 54
        }
      },
      "source": [
        "print(classes)"
      ],
      "execution_count": 0,
      "outputs": [
        {
          "output_type": "stream",
          "text": [
            "{0: 'flow charts', 1: 'chemistry lab equipment', 2: 'maps', 3: 'structural formulae', 4: 'physics free body diagrams', 5: 'line ray diagrams', 6: 'diagrams in biology', 7: 'geomtery', 8: 'statistics', 9: 'fields', 10: 'cartoon in comics', 11: 'circuit diagram', 12: 'Tabular data', 13: 'complex graphs', 14: 'venn diagrams'}\n"
          ],
          "name": "stdout"
        }
      ]
    },
    {
      "cell_type": "code",
      "metadata": {
        "id": "g27RNGVLzxeF",
        "colab_type": "code",
        "colab": {}
      },
      "source": [
        "Y_data = keras.utils.to_categorical(y_data, num_classes=15, dtype='float32')"
      ],
      "execution_count": 0,
      "outputs": []
    },
    {
      "cell_type": "code",
      "metadata": {
        "id": "_JICYf7UzzID",
        "colab_type": "code",
        "colab": {}
      },
      "source": [
        "data = list(zip(x_data, Y_data))\n",
        "random.shuffle(data)\n",
        "X_data, Y_data = zip(*data)"
      ],
      "execution_count": 0,
      "outputs": []
    },
    {
      "cell_type": "code",
      "metadata": {
        "id": "tEyLgbM4z0pU",
        "colab_type": "code",
        "outputId": "a569deed-43bb-4df3-eb8d-895328a7e9d4",
        "colab": {
          "base_uri": "https://localhost:8080/",
          "height": 34
        }
      },
      "source": [
        "count = 0\n",
        "for i,point in enumerate(X_data):\n",
        "  if point.ndim != 3:\n",
        "    #print(\"yes\", i)\n",
        "    count+= 1\n",
        "    print(Y_data[i])\n",
        "print(count)"
      ],
      "execution_count": 0,
      "outputs": [
        {
          "output_type": "stream",
          "text": [
            "0\n"
          ],
          "name": "stdout"
        }
      ]
    },
    {
      "cell_type": "code",
      "metadata": {
        "id": "33zaxefIz2MV",
        "colab_type": "code",
        "colab": {}
      },
      "source": [
        "X_arr_data = np.stack(X_data,axis=0)"
      ],
      "execution_count": 0,
      "outputs": []
    },
    {
      "cell_type": "code",
      "metadata": {
        "id": "WgnDJ4Urz3wz",
        "colab_type": "code",
        "colab": {}
      },
      "source": [
        "Y_arr_data = np.stack(Y_data, axis = 0)"
      ],
      "execution_count": 0,
      "outputs": []
    },
    {
      "cell_type": "code",
      "metadata": {
        "id": "9QAqnLmAz5Os",
        "colab_type": "code",
        "colab": {}
      },
      "source": [
        "X_train, X_test, Y_train, Y_test = train_test_split( X_arr_data, Y_arr_data, test_size=0.1, random_state=42)"
      ],
      "execution_count": 0,
      "outputs": []
    },
    {
      "cell_type": "code",
      "metadata": {
        "id": "Yg2A_infz6yj",
        "colab_type": "code",
        "colab": {}
      },
      "source": [
        "gen = image.ImageDataGenerator(featurewise_center = True, featurewise_std_normalization = True, rotation_range=20, width_shift_range=0.08, height_shift_range=0.08, zoom_range=0.08, horizontal_flip = True)\n",
        "gen.fit(X_train)\n",
        "batches = gen.flow(X_train, Y_train, batch_size=32)\n",
        "val_batches = gen.flow(X_test, Y_test, batch_size=32)"
      ],
      "execution_count": 0,
      "outputs": []
    },
    {
      "cell_type": "markdown",
      "metadata": {
        "id": "MVxBzeCDIKCL",
        "colab_type": "text"
      },
      "source": [
        "# Model Class"
      ]
    },
    {
      "cell_type": "code",
      "metadata": {
        "id": "TPAn3ZcEz8Wc",
        "colab_type": "code",
        "colab": {}
      },
      "source": [
        "def vgg_4():\n",
        "  x = applications.vgg16.VGG16(weights = 'imagenet', include_top = False, input_shape = (img_size,img_size, 3))\n",
        "  X = x.output\n",
        "  X = GlobalAveragePooling2D()(X)\n",
        "  X = BatchNormalization()(X)\n",
        "  X = Dense(1024, activation = 'relu', kernel_regularizer = regularizers.l2(0.01))(X)\n",
        "  X = Dropout(0.2)(X)\n",
        "  X = Dense(1024, activation = 'relu', kernel_regularizer = regularizers.l2(0.01))(X)\n",
        "  X = Dropout(0.25)(X)\n",
        "  X = BatchNormalization()(X)\n",
        "  X = Dense(512, activation = 'relu', kernel_regularizer = regularizers.l2(0.01))(X)\n",
        "  X = Dropout(0.20)(X)\n",
        "  X = Dense(120, activation = 'relu', kernel_regularizer = regularizers.l2(0.01))(X)\n",
        "  X = BatchNormalization()(X)\n",
        "  pred = Dense(15, activation = 'softmax')(X)\n",
        "  model = Model(inputs = x.input, output = pred)\n",
        "  \n",
        "  return model"
      ],
      "execution_count": 0,
      "outputs": []
    },
    {
      "cell_type": "code",
      "metadata": {
        "id": "_RlwSg_yz-Dh",
        "colab_type": "code",
        "outputId": "ea5b7967-60f1-4683-c5ae-7c569a144a22",
        "colab": {
          "base_uri": "https://localhost:8080/",
          "height": 365
        }
      },
      "source": [
        "model_6 = vgg_4()"
      ],
      "execution_count": 0,
      "outputs": [
        {
          "output_type": "stream",
          "text": [
            "WARNING: Logging before flag parsing goes to stderr.\n",
            "W0802 15:33:28.962539 140610465793920 deprecation_wrapper.py:119] From /usr/local/lib/python3.6/dist-packages/keras/backend/tensorflow_backend.py:74: The name tf.get_default_graph is deprecated. Please use tf.compat.v1.get_default_graph instead.\n",
            "\n",
            "W0802 15:33:29.032088 140610465793920 deprecation_wrapper.py:119] From /usr/local/lib/python3.6/dist-packages/keras/backend/tensorflow_backend.py:517: The name tf.placeholder is deprecated. Please use tf.compat.v1.placeholder instead.\n",
            "\n",
            "W0802 15:33:29.052899 140610465793920 deprecation_wrapper.py:119] From /usr/local/lib/python3.6/dist-packages/keras/backend/tensorflow_backend.py:4138: The name tf.random_uniform is deprecated. Please use tf.random.uniform instead.\n",
            "\n",
            "W0802 15:33:29.100653 140610465793920 deprecation_wrapper.py:119] From /usr/local/lib/python3.6/dist-packages/keras/backend/tensorflow_backend.py:3976: The name tf.nn.max_pool is deprecated. Please use tf.nn.max_pool2d instead.\n",
            "\n"
          ],
          "name": "stderr"
        },
        {
          "output_type": "stream",
          "text": [
            "Downloading data from https://github.com/fchollet/deep-learning-models/releases/download/v0.1/vgg16_weights_tf_dim_ordering_tf_kernels_notop.h5\n",
            "58892288/58889256 [==============================] - 1s 0us/step\n"
          ],
          "name": "stdout"
        },
        {
          "output_type": "stream",
          "text": [
            "W0802 15:33:30.499074 140610465793920 deprecation_wrapper.py:119] From /usr/local/lib/python3.6/dist-packages/keras/backend/tensorflow_backend.py:174: The name tf.get_default_session is deprecated. Please use tf.compat.v1.get_default_session instead.\n",
            "\n",
            "W0802 15:33:30.500061 140610465793920 deprecation_wrapper.py:119] From /usr/local/lib/python3.6/dist-packages/keras/backend/tensorflow_backend.py:181: The name tf.ConfigProto is deprecated. Please use tf.compat.v1.ConfigProto instead.\n",
            "\n",
            "W0802 15:33:34.057953 140610465793920 deprecation.py:506] From /usr/local/lib/python3.6/dist-packages/keras/backend/tensorflow_backend.py:3445: calling dropout (from tensorflow.python.ops.nn_ops) with keep_prob is deprecated and will be removed in a future version.\n",
            "Instructions for updating:\n",
            "Please use `rate` instead of `keep_prob`. Rate should be set to `rate = 1 - keep_prob`.\n",
            "/usr/local/lib/python3.6/dist-packages/ipykernel_launcher.py:17: UserWarning: Update your `Model` call to the Keras 2 API: `Model(inputs=Tensor(\"in..., outputs=Tensor(\"de...)`\n"
          ],
          "name": "stderr"
        }
      ]
    },
    {
      "cell_type": "code",
      "metadata": {
        "id": "_4K2kKv1z_iQ",
        "colab_type": "code",
        "colab": {}
      },
      "source": [
        "for layer in model_6.layers[:15]:\n",
        "  layer.trainable = False\n",
        "for layer in model_6.layers[15:]:\n",
        "  layer.trainable = True"
      ],
      "execution_count": 0,
      "outputs": []
    },
    {
      "cell_type": "code",
      "metadata": {
        "id": "7m6B4cEw0Gsy",
        "colab_type": "code",
        "outputId": "d8dd6421-e5a3-41ad-8676-2e0079578739",
        "colab": {
          "base_uri": "https://localhost:8080/",
          "height": 72
        }
      },
      "source": [
        "model_6.compile(optimizer = 'Adam', loss='categorical_crossentropy', metrics=['accuracy'])"
      ],
      "execution_count": 0,
      "outputs": [
        {
          "output_type": "stream",
          "text": [
            "W0802 15:33:34.677537 140610465793920 deprecation_wrapper.py:119] From /usr/local/lib/python3.6/dist-packages/keras/optimizers.py:790: The name tf.train.Optimizer is deprecated. Please use tf.compat.v1.train.Optimizer instead.\n",
            "\n"
          ],
          "name": "stderr"
        }
      ]
    },
    {
      "cell_type": "code",
      "metadata": {
        "id": "BHbc4QCo0ISn",
        "colab_type": "code",
        "outputId": "963716d1-f562-492a-d5d8-69855293b704",
        "colab": {
          "base_uri": "https://localhost:8080/",
          "height": 124
        }
      },
      "source": [
        "history_6 = model_6.fit_generator(generator=batches, steps_per_epoch=batches.n, epochs=1, \n",
        "                    validation_data=val_batches, validation_steps=val_batches.n)"
      ],
      "execution_count": 0,
      "outputs": [
        {
          "output_type": "stream",
          "text": [
            "W0802 15:33:34.860817 140610465793920 deprecation.py:323] From /usr/local/lib/python3.6/dist-packages/tensorflow/python/ops/math_grad.py:1250: add_dispatch_support.<locals>.wrapper (from tensorflow.python.ops.array_ops) is deprecated and will be removed in a future version.\n",
            "Instructions for updating:\n",
            "Use tf.where in 2.0, which has the same broadcast rule as np.where\n"
          ],
          "name": "stderr"
        },
        {
          "output_type": "stream",
          "text": [
            "Epoch 1/1\n",
            "8441/8441 [==============================] - 1161s 138ms/step - loss: 1.4957 - acc: 0.8088 - val_loss: 1.3301 - val_acc: 0.7471\n"
          ],
          "name": "stdout"
        }
      ]
    },
    {
      "cell_type": "code",
      "metadata": {
        "id": "7m562eG7WpEZ",
        "colab_type": "code",
        "outputId": "93beb86b-ba46-481b-ed93-f73d4a793319",
        "colab": {
          "base_uri": "https://localhost:8080/",
          "height": 54
        }
      },
      "source": [
        "print(history_6.history)"
      ],
      "execution_count": 0,
      "outputs": [
        {
          "output_type": "stream",
          "text": [
            "{'val_loss': [1.330149906448623], 'val_acc': [0.7470512033858052], 'loss': [1.495894228815138], 'acc': [0.8088590007195218]}\n"
          ],
          "name": "stdout"
        }
      ]
    },
    {
      "cell_type": "code",
      "metadata": {
        "id": "_w50wXKEyLHK",
        "colab_type": "code",
        "colab": {}
      },
      "source": [
        "#model_6.save('drive/My Drive/model_6.h5')"
      ],
      "execution_count": 0,
      "outputs": []
    },
    {
      "cell_type": "code",
      "metadata": {
        "id": "OfvBCf8Y0L7Z",
        "colab_type": "code",
        "outputId": "3694bb0d-899b-44ec-a80f-b29dcba77182",
        "colab": {
          "base_uri": "https://localhost:8080/",
          "height": 54
        }
      },
      "source": [
        "print(os.listdir('drive/My Drive/ncert_images'))"
      ],
      "execution_count": 0,
      "outputs": [
        {
          "output_type": "stream",
          "text": [
            "['femh103', 'femh101', 'femh102', 'femh105', 'femh104', 'femh106', 'femh108', 'femh107', 'femh109', 'femh111', 'femh110', 'femh112', 'femh113', 'fesc102', 'fesc101', 'femh114', 'fesc103', 'fesc104', 'fesc105', 'fesc106', 'fesc109', 'fesc110', 'fesc111', 'fesc107', 'fesc108', 'fesc116', 'fesc113', 'fesc112', 'fesc115', 'fesc114', 'fess107', 'fess102', 'fess106', 'fess103', 'fess104', 'fess101', 'fess105', 'fess109', 'fess108', 'fess112', 'fess111', 'fess110', 'fess202', 'fess203', 'fess204', 'fess206', 'fess201', 'fess205', 'fess207', 'fess208', 'fess301', 'fess302', 'fess303', 'fess304', 'fess305', 'fess307', 'fess309', 'fess306', 'fess308', 'gemh101', 'gemh102', 'gemh104', 'gemh103', 'gemh106', 'gemh105', 'gemh108', 'gemh107', 'gemh109', 'gemh110', 'gemh111', 'gemh112', 'gemh113', 'gemh115', 'gemh114', 'gesc101', 'gesc103', 'gesc102', 'gesc105', 'gesc104', 'gesc106', 'gesc108', 'gesc107', 'gesc110', 'gesc111', 'gesc109', 'gesc113', 'gesc112', 'gesc114', 'gesc115', 'gesc116', 'gesc118', 'gesc117', 'gess101', 'gess102', 'gess103', 'gess104', 'gess105', 'gess106', 'gess108', 'gess107', 'gess201', 'gess202', 'gess109', 'gess203', 'gess206', 'gess205', 'gess204', 'gess207', 'gess210', 'gess208', 'gess301', 'gess209', 'gess302', 'gess303', 'gess304', 'gess307', 'gess305', 'gess306', 'gess308', 'gess309', 'gess310', 'hemh101', 'hemh103', 'hemh102', 'hemh104', 'hemh105', 'hemh110', 'hemh106', 'hemh109', 'hemh107', 'hemh108', 'hemh111', 'hemh112', 'hemh115', 'hesc101', 'hemh116', 'hemh113', 'hemh114', 'hesc106', 'hesc104', 'hesc103', 'hesc108', 'hesc105', 'hesc107', 'hesc102', 'hesc115', 'hesc109', 'hesc112', 'hesc110', 'hesc114', 'hesc111', 'hesc113', 'hesc117', 'hesc118', 'hesc116', 'hess102', 'hess101', 'hess106', 'hess105', 'hess103', 'hess104', 'hess108', 'hess109', 'hess107', 'hess111', 'hess110', 'hess112', 'hess201', 'hess202', 'hess203', 'hess204', 'hess206', 'hess205', 'hess207', 'hess208', 'hess209', 'hess210', 'hess304', 'hess303', 'hess302', 'hess301', 'hess305', 'hess306', 'hess307', 'hess308', 'hess309', 'hess310', 'hess401', 'hess402', 'hess403', 'hess405', 'hess404', 'hess406', 'iemh101', 'iemh102', 'iemh103', 'iemh104', 'iemh105', 'iemh107', 'iemh106', 'iemh109', 'iemh108', 'iemh111', 'iemh110', 'iemh113', 'iemh112', 'iemh115', 'iemh114', 'iesc102', 'iesc104', 'iesc103', 'iesc101', 'iesc106', 'iesc105', 'iesc107', 'iesc108', 'iesc110', 'iesc109', 'iesc111', 'iess101', 'iesc113', 'iesc115', 'iesc114', 'iesc112', 'iess103', 'iess102', 'iess104', 'iess105', 'iess106', 'iess201', 'iess202', 'iess204', 'iess203', 'iess301', 'iess302', 'iess303', 'iess304', 'iess307', 'iess306', 'iess305', 'iess308', 'jemh101', 'jemh102', 'jemh104', 'jemh103', 'jemh105', 'jemh106', 'jemh107', 'jemh108', 'jemh111', 'jemh110', 'jemh109', 'jemh112', 'jemh113', 'jemh114', 'jemh115', 'jesc103', 'jesc101', 'jesc102', 'jesc104', 'jesc108', 'jesc106', 'jesc107', 'jesc105', 'jesc109', 'jesc112', 'jesc111', 'jesc110', 'jesc115', 'jesc114', 'jess102', 'jesc116', 'jess101', 'jesc113', 'jess103', 'jess106', 'jess107', 'jess105', 'jess104', 'jess201', 'jess202', 'jess204', 'jess203', 'jess205', 'jess301', 'jess302', 'jess303', 'jess304', 'jess305', 'jess307', 'jess306', 'jess308', 'jess403', 'jess402', 'jess401', 'jess404', 'jess407', 'jess406', 'jess405', 'keac102', 'jess408', 'keac101', 'keac103', 'keac105', 'keac106', 'keac107', 'keac104', 'keac201', 'keac108', 'keac203', 'keac206', 'keac205', 'keac204', 'keac202', 'keac209', 'keac207', 'keac210', 'keac211', 'keac213', 'keac212', 'keac215', 'keac214', 'kebo101', 'kebo102', 'kebo103', 'kebo104', 'kebo106', 'kebo105', 'kebo107', 'kebo109', 'kebo108', 'kebo111', 'kebo110', 'kebo112', 'kebo113', 'kebs101', 'kebo114', 'kebs102', 'kebs103', 'kebo115', 'kebs104', 'kebs106', 'kebs110', 'kebs107', 'kebs105', 'kebs108', 'kebs109', 'kebs112', 'kebs111', 'kech101', 'kech103', 'kech102', 'kech104', 'kech105', 'kech106', 'kech107', 'kech109', 'kech108', 'kech111', 'kech110', 'kech112', 'kech114', 'kech201', 'kech113', 'kech202', 'kech204', 'kech203', 'kech205', 'kech206', 'keec101', 'kech207', 'keec103', 'keec102', 'keec104', 'keec105', 'keec108', 'keec107', 'keec106', 'kegy103', 'kegy102', 'kegy101', 'keec110', 'keec109', 'keec111', 'kegy104', 'kegy203', 'kegy105', 'kegy205', 'kegy201', 'kegy107', 'kegy106', 'kegy204', 'kegy202', 'kegy206', 'kegy207', 'kegy209', 'kegy208', 'kegy211', 'kegy214', 'kegy213', 'kegy210', 'kegy212', 'kegy215', 'kemh102', 'kemh101', 'kemh103', 'kemh104', 'kemh105', 'kemh107', 'kemh106', 'kemh109', 'kemh108', 'kemh110', 'kemh111', 'kemh112', 'kemh113', 'kemh114', 'keph102', 'keph101', 'kemh115', 'keph103', 'keph105', 'keph104', 'keph106', 'keph107', 'keph110', 'keph109', 'keph108', 'keph112', 'keph111', 'keph114', 'keph113', 'keph115', 'keph203', 'keph202', 'keph201', 'keph204', 'keph205', 'keph206', 'keph207', 'leac101', 'leac102', 'leac103', 'leac104', 'leac201', 'leac105', 'leac202', 'leac203', 'leac204', 'leac205', 'lebo101', 'lebo102', 'leac206', 'lebo105', 'lebo107', 'lebo104', 'lebo103', 'lebo106', 'lebo111', 'lebo115', 'lebo109', 'lebo108', 'lebo114', 'lebo110', 'lebo113', 'lebo112', 'lebs101', 'lebs105', 'lebs104', 'lebs103', 'lebs102', 'lebs107', 'lebs109', 'lebs106', 'lebs110', 'lebs108', 'lebs112', 'lebs111', 'lebs201', 'lebs113', 'lebs203', 'lebs202', 'lebs204', 'lebs205', 'lech101', 'lech102', 'lech103', 'lech105', 'lech106', 'lech104', 'lech108', 'lech107', 'lech109', 'lech111', 'lech110', 'lech112', 'lech113', 'lech115', 'lech114', 'lech201', 'lech202', 'lech203', 'lech204', 'lech206', 'lech205', 'lech207', 'leec103', 'leec101', 'leec102', 'leec105', 'leec104', 'leec201', 'leec106', 'leec202', 'leec203', 'leec205', 'leec204', 'legy102', 'leec206', 'legy101', 'legy107', 'legy105', 'legy106', 'legy103', 'legy104', 'legy108', 'legy202', 'legy203', 'legy110', 'legy109', 'legy201', 'legy204', 'legy206', 'legy207', 'legy205', 'legy209', 'legy208', 'legy210', 'legy211', 'legy212', 'lemh101', 'lemh102', 'lemh103', 'lemh104', 'lemh105', 'lemh106', 'lemh107', 'lemh108', 'lemh109', 'lemh110', 'lemh111', 'lemh112', 'lemh113', 'lemh201', 'lemh202', 'lemh203', 'lemh204', 'lemh206', 'lemh205', 'lemh207', 'leph101', 'leph103', 'leph102', 'leph104', 'leph105', 'leph106', 'leph107', 'leph109', 'leph108', 'leph111', 'leph110', 'leph112', 'leph114', 'leph113', 'leph202', 'leph115', 'leph201', 'leph204', 'leph203', 'leph205', 'leph206', 'leph207']\n"
          ],
          "name": "stdout"
        }
      ]
    },
    {
      "cell_type": "code",
      "metadata": {
        "id": "rPmhYBzU0NrX",
        "colab_type": "code",
        "colab": {}
      },
      "source": [
        "os.mkdir('drive/My Drive/45_k_data_set')"
      ],
      "execution_count": 0,
      "outputs": []
    },
    {
      "cell_type": "code",
      "metadata": {
        "id": "PLgmNB520PR1",
        "colab_type": "code",
        "outputId": "d9228333-95ac-497f-c8d0-12caafea3c2d",
        "colab": {
          "base_uri": "https://localhost:8080/",
          "height": 276
        }
      },
      "source": [
        "for folder_name in classes.values():\n",
        "  print(folder_name)"
      ],
      "execution_count": 0,
      "outputs": [
        {
          "output_type": "stream",
          "text": [
            "flow charts\n",
            "chemistry lab equipment\n",
            "maps\n",
            "structural formulae\n",
            "physics free body diagrams\n",
            "line ray diagrams\n",
            "diagrams in biology\n",
            "geomtery\n",
            "statistics\n",
            "fields\n",
            "cartoon in comics\n",
            "circuit diagram\n",
            "Tabular data\n",
            "complex graphs\n",
            "venn diagrams\n"
          ],
          "name": "stdout"
        }
      ]
    },
    {
      "cell_type": "code",
      "metadata": {
        "id": "TLwHgEh_0RIV",
        "colab_type": "code",
        "colab": {}
      },
      "source": [
        "for folder_name in classes.values():\n",
        "  folder_path = os.path.join('drive/My Drive/45_k_data_set',folder_name)\n",
        "  os.mkdir(folder_path)"
      ],
      "execution_count": 0,
      "outputs": []
    },
    {
      "cell_type": "markdown",
      "metadata": {
        "id": "U-NR6EflUkN9",
        "colab_type": "text"
      },
      "source": [
        "## **Suggested Method:** *** Labelling new images using the trained classifier to increase the dataset size***"
      ]
    },
    {
      "cell_type": "code",
      "metadata": {
        "id": "LtCOg0huH_Dp",
        "colab_type": "code",
        "colab": {}
      },
      "source": [
        "from tqdm import tqdm_notebook as tqdm"
      ],
      "execution_count": 0,
      "outputs": []
    },
    {
      "cell_type": "code",
      "metadata": {
        "id": "y3M5mc07H8T-",
        "colab_type": "code",
        "colab": {}
      },
      "source": [
        "for folder in tqdm(os.listdir('drive/My Drive/ncert_images')):\n",
        "  folder_path = os.path.join('drive/My Drive/ncert_images', folder)\n",
        "  for img in os.listdir(folder_path):\n",
        "    x_img = []\n",
        "    img_path = os.path.join(folder_path, img)\n",
        "    try:  \n",
        "      img_open = Image.open(img_path).convert('RGB')\n",
        "      img_1 = img_open.resize((img_size, img_size), PIL.Image.ANTIALIAS)\n",
        "      x_img.append(np.array(img_1))\n",
        "      x_arr_data = np.stack(x_img,axis = 0)\n",
        "      y = model_6.predict(x_arr_data)\n",
        "      y = np.argmax(y)\n",
        "      save_folder_path = os.path.join('drive/My Drive/45_k_data_set',classes[y])\n",
        "      save_path = os.path.join(save_folder_path,img)\n",
        "      img_open.save(save_path,'JPEG')\n",
        "    except:\n",
        "      print(img_path)"
      ],
      "execution_count": 0,
      "outputs": []
    },
    {
      "cell_type": "code",
      "metadata": {
        "id": "PNn4DD16VaP1",
        "colab_type": "code",
        "colab": {}
      },
      "source": [
        "os.mkdir('drive/My Drive/45_k_data_set/null')"
      ],
      "execution_count": 0,
      "outputs": []
    },
    {
      "cell_type": "code",
      "metadata": {
        "id": "JDZfzWlC5VFf",
        "colab_type": "code",
        "colab": {}
      },
      "source": [
        "count = 0\n",
        "for folder in tqdm(os.listdir('drive/My Drive/ncert_images')):\n",
        "  folder_path = os.path.join('drive/My Drive/ncert_images', folder)\n",
        "  \n",
        "  for img in os.listdir(folder_path):\n",
        "    x_img = []\n",
        "    img_path = os.path.join(folder_path, img)  \n",
        "    img_open = Image.open(img_path).convert('RGB')\n",
        "    img_1 = img_open.resize((img_size, img_size), PIL.Image.ANTIALIAS)\n",
        "    x_img.append(np.array(img_1))\n",
        "    x_arr_data = np.stack(x_img,axis = 0)\n",
        "    y = model_6.predict(x_arr_data)\n",
        "    count += 1\n",
        "    z = np.amax(y)\n",
        "    y = np.argmax(y)\n",
        "    if(z > 0.8):\n",
        "          \n",
        "      save_folder_path = os.path.join('drive/My Drive/45_k_data_set',classes[y])\n",
        "      img_name = folder+\"_\"+img\n",
        "      save_path = os.path.join(save_folder_path,img_name)\n",
        "      img_open.save(save_path)\n",
        "    elif(z <= 0.8):\n",
        "      save_folder_path = 'drive/My Drive/45_k_data_set/null'\n",
        "      img_name = \"_null\"+img\n",
        "      save_path = os.path.join(save_folder_path,img_name)\n",
        "      img_open.save(save_path)\n",
        "          \n",
        "  print(folder,count)   "
      ],
      "execution_count": 0,
      "outputs": []
    },
    {
      "cell_type": "markdown",
      "metadata": {
        "id": "8gbXorScIpMM",
        "colab_type": "text"
      },
      "source": [
        "# Removing corrupted images"
      ]
    },
    {
      "cell_type": "code",
      "metadata": {
        "id": "g7_V4LZGqmjF",
        "colab_type": "code",
        "outputId": "2b40e92f-bb5c-43ca-dba2-4bebe4103abe",
        "colab": {
          "base_uri": "https://localhost:8080/",
          "height": 52
        }
      },
      "source": [
        "for i in remove_list[:]:\n",
        "  os.remove(i)\n",
        "  print(\"removed: \",i)"
      ],
      "execution_count": 0,
      "outputs": [
        {
          "output_type": "stream",
          "text": [
            "removed:  drive/My Drive/ncert_images/lemh111/Image0001.svg\n",
            "removed:  drive/My Drive/ncert_images/lemh205/Image0001.svg\n"
          ],
          "name": "stdout"
        }
      ]
    }
  ]
}